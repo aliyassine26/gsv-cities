{
 "cells": [
  {
   "cell_type": "code",
   "execution_count": 1,
   "metadata": {},
   "outputs": [],
   "source": [
    "import os\n",
    "import shutil\n",
    "import math\n",
    "\n",
    "def get_utm_coordinates(filename):\n",
    "    parts = filename.split('@')\n",
    "    utm_easting = float(parts[1])\n",
    "    utm_northing = float(parts[2])\n",
    "    return utm_easting, utm_northing"
   ]
  },
  {
   "cell_type": "code",
   "execution_count": 3,
   "metadata": {},
   "outputs": [],
   "source": [
    "def calculate_euclidean_distance(coord1, coord2):\n",
    "    return math.sqrt((coord1[0] - coord2[0]) ** 2 + (coord1[1] - coord2[1]) ** 2)\n"
   ]
  },
  {
   "cell_type": "code",
   "execution_count": 17,
   "metadata": {},
   "outputs": [],
   "source": [
    "import numpy as np\n",
    "\n",
    "def copy_images_within_distance(db_folder, q_folder, distance_threshold):\n",
    "    \n",
    "    db_images = [f for f in os.listdir(db_folder) ]\n",
    "    q_images = [f for f in os.listdir(q_folder) ]\n",
    "    \n",
    "    gt = ([[] for i in range(len(q_images))])\n",
    "    \n",
    "    for idxq,q_image in enumerate(q_images):\n",
    "        q_utm = get_utm_coordinates(q_image)\n",
    "        \n",
    "        for idxdb,db_image in enumerate(db_images):\n",
    "            db_utm = get_utm_coordinates(db_image)\n",
    "            distance = calculate_euclidean_distance(q_utm, db_utm)\n",
    "            \n",
    "            if distance <= distance_threshold:\n",
    "                gt[idxq].append(idxdb)\n",
    "                \n",
    "\n",
    "    return np.array(gt, dtype=object)"
   ]
  },
  {
   "cell_type": "code",
   "execution_count": 53,
   "metadata": {},
   "outputs": [],
   "source": [
    "\n",
    "\n",
    "\n",
    "\n",
    "\n",
    "# Define folder paths\n",
    "db_folder = '/Users/hadiibrahim/Dev/POLITO/gsv-cities/datasets/robotcar_dataset/val/database/sequence'\n",
    "q_folder = '/Users/hadiibrahim/Dev/POLITO/gsv-cities/datasets/robotcar_dataset/val/queries/sequence'\n",
    "\n",
    "# Define distance threshold in meters\n",
    "distance_threshold = 25\n",
    "\n",
    "# Copy images within the distance threshold\n",
    "gt = copy_images_within_distance(db_folder, q_folder, distance_threshold)\n"
   ]
  },
  {
   "cell_type": "code",
   "execution_count": null,
   "metadata": {},
   "outputs": [],
   "source": [
    "gt"
   ]
  },
  {
   "cell_type": "code",
   "execution_count": 50,
   "metadata": {},
   "outputs": [],
   "source": [
    "gt_images_file = '/Users/hadiibrahim/Dev/POLITO/gsv-cities/datasets/RobotCar/robotcar_val_qImages.npy'\n",
    "\n",
    "np.save(gt_images_file, gt)\n"
   ]
  },
  {
   "cell_type": "code",
   "execution_count": null,
   "metadata": {},
   "outputs": [],
   "source": [
    "gt = np.load(gt_images_file, allow_pickle=True)\n",
    "gt"
   ]
  },
  {
   "cell_type": "code",
   "execution_count": 26,
   "metadata": {},
   "outputs": [
    {
     "name": "stderr",
     "output_type": "stream",
     "text": [
      "Matplotlib is building the font cache; this may take a moment.\n"
     ]
    }
   ],
   "source": [
    "import matplotlib.pyplot as plt\n",
    "\n",
    "def show_image(image, title):\n",
    "    plt.imshow(image)\n",
    "    plt.title(title)\n",
    "    plt.axis('off')\n",
    "    plt.show()"
   ]
  },
  {
   "cell_type": "code",
   "execution_count": 14,
   "metadata": {},
   "outputs": [
    {
     "name": "stdout",
     "output_type": "stream",
     "text": [
      "Total number of images in the ground truth folder: 1000\n"
     ]
    }
   ],
   "source": [
    "q_images = [f for f in os.listdir(q_folder) if f.endswith('.jpg')]\n",
    "print(f\"Total number of images in the ground truth folder: {len(q_images)}\")"
   ]
  },
  {
   "cell_type": "code",
   "execution_count": 15,
   "metadata": {},
   "outputs": [
    {
     "name": "stdout",
     "output_type": "stream",
     "text": [
      "Total number of images in the ground truth folder: 27191\n"
     ]
    }
   ],
   "source": [
    "db_images = [f for f in os.listdir(db_folder)]\n",
    "print(f\"Total number of images in the ground truth folder: {len(db_images)}\")"
   ]
  },
  {
   "cell_type": "code",
   "execution_count": 17,
   "metadata": {},
   "outputs": [
    {
     "name": "stdout",
     "output_type": "stream",
     "text": [
      "Total number of images in the ground truth folder: 7665\n"
     ]
    }
   ],
   "source": [
    "gt_images = [f for f in os.listdir(gt_folder)]\n",
    "print(f\"Total number of images in the ground truth folder: {len(gt_images)}\")"
   ]
  },
  {
   "cell_type": "code",
   "execution_count": null,
   "metadata": {},
   "outputs": [],
   "source": [
    "import os\n",
    "\n",
    "def compare_folders(folder1, folder2):\n",
    "    \"\"\"\n",
    "    Compares the image filenames in two folders and returns True if they contain the same files.\n",
    "    \"\"\"\n",
    "    files_in_folder1 = set(f for f in os.listdir(folder1) if f.endswith('.jpg'))\n",
    "    files_in_folder2 = set(f for f in os.listdir(folder2) if f.endswith('.jpg'))\n",
    "    \n",
    "    return files_in_folder1 == files_in_folder2\n",
    "\n",
    "# Define the folder paths\n",
    "folder1 = 'path/to/first/folder'\n",
    "folder2 = 'path/to/second/folder'\n",
    "\n",
    "# Compare the folders\n",
    "folders_are_equal = compare_folders(folder1, folder2)\n",
    "print(f\"The folders contain the same files: {folders_are_equal}\")\n"
   ]
  },
  {
   "cell_type": "markdown",
   "metadata": {},
   "source": [
    "## Save files"
   ]
  },
  {
   "cell_type": "code",
   "execution_count": 14,
   "metadata": {},
   "outputs": [],
   "source": [
    "import numpy as np\n",
    "\n",
    "# Load the .npy files\n",
    "gt_images = np.load('/Users/hadiibrahim/Dev/POLITO/gsv-cities/datasets/CrossSeason/CrossSeason_gt.npy', allow_pickle=True)"
   ]
  },
  {
   "cell_type": "code",
   "execution_count": 15,
   "metadata": {},
   "outputs": [
    {
     "data": {
      "text/plain": [
       "array([array([0, 1, 2, 3, 4, 5, 6, 7, 8, 9]),\n",
       "       array([0, 1, 2, 3, 4, 5, 6, 7, 8, 9]),\n",
       "       array([0, 1, 2, 3, 4, 5, 6, 7, 8, 9]),\n",
       "       array([0, 1, 2, 3, 4, 5, 6, 7, 8, 9]),\n",
       "       array([0, 1, 2, 3, 4, 5, 6, 7, 8, 9]),\n",
       "       array([0, 1, 2, 3, 4, 5, 6, 7, 8, 9]),\n",
       "       array([0, 1, 2, 3, 4, 5, 6, 7, 8, 9]),\n",
       "       array([0, 1, 2, 3, 4, 5, 6, 7, 8, 9]),\n",
       "       array([0, 1, 2, 3, 4, 5, 6, 7, 8, 9]),\n",
       "       array([0, 1, 2, 3, 4, 5, 6, 7, 8, 9]),\n",
       "       array([10, 11, 12, 13, 14, 15, 16, 17, 18]),\n",
       "       array([10, 11, 12, 13, 14, 15, 16, 17, 18]),\n",
       "       array([10, 11, 12, 13, 14, 15, 16, 17, 18]),\n",
       "       array([10, 11, 12, 13, 14, 15, 16, 17, 18]),\n",
       "       array([10, 11, 12, 13, 14, 15, 16, 17, 18]),\n",
       "       array([10, 11, 12, 13, 14, 15, 16, 17, 18]),\n",
       "       array([10, 11, 12, 13, 14, 15, 16, 17, 18]),\n",
       "       array([10, 11, 12, 13, 14, 15, 16, 17, 18]),\n",
       "       array([10, 11, 12, 13, 14, 15, 16, 17, 18]),\n",
       "       array([19, 20, 21, 22, 23, 24, 25]),\n",
       "       array([19, 20, 21, 22, 23, 24, 25]),\n",
       "       array([19, 20, 21, 22, 23, 24, 25]),\n",
       "       array([19, 20, 21, 22, 23, 24, 25]),\n",
       "       array([19, 20, 21, 22, 23, 24, 25]),\n",
       "       array([19, 20, 21, 22, 23, 24, 25]),\n",
       "       array([19, 20, 21, 22, 23, 24, 25]),\n",
       "       array([26, 27, 28, 29, 30, 31, 32, 33]),\n",
       "       array([26, 27, 28, 29, 30, 31, 32, 33]),\n",
       "       array([26, 27, 28, 29, 30, 31, 32, 33]),\n",
       "       array([26, 27, 28, 29, 30, 31, 32, 33]),\n",
       "       array([26, 27, 28, 29, 30, 31, 32, 33]),\n",
       "       array([26, 27, 28, 29, 30, 31, 32, 33]),\n",
       "       array([26, 27, 28, 29, 30, 31, 32, 33]),\n",
       "       array([26, 27, 28, 29, 30, 31, 32, 33]),\n",
       "       array([34, 35, 36, 37, 38, 39, 40, 41, 42]),\n",
       "       array([34, 35, 36, 37, 38, 39, 40, 41, 42]),\n",
       "       array([34, 35, 36, 37, 38, 39, 40, 41, 42]),\n",
       "       array([34, 35, 36, 37, 38, 39, 40, 41, 42]),\n",
       "       array([34, 35, 36, 37, 38, 39, 40, 41, 42]),\n",
       "       array([34, 35, 36, 37, 38, 39, 40, 41, 42]),\n",
       "       array([34, 35, 36, 37, 38, 39, 40, 41, 42]),\n",
       "       array([34, 35, 36, 37, 38, 39, 40, 41, 42]),\n",
       "       array([34, 35, 36, 37, 38, 39, 40, 41, 42]),\n",
       "       array([43, 44, 45, 46, 47, 48, 49, 50, 51]),\n",
       "       array([43, 44, 45, 46, 47, 48, 49, 50, 51]),\n",
       "       array([43, 44, 45, 46, 47, 48, 49, 50, 51]),\n",
       "       array([43, 44, 45, 46, 47, 48, 49, 50, 51]),\n",
       "       array([43, 44, 45, 46, 47, 48, 49, 50, 51]),\n",
       "       array([43, 44, 45, 46, 47, 48, 49, 50, 51]),\n",
       "       array([43, 44, 45, 46, 47, 48, 49, 50, 51]),\n",
       "       array([43, 44, 45, 46, 47, 48, 49, 50, 51]),\n",
       "       array([43, 44, 45, 46, 47, 48, 49, 50, 51]),\n",
       "       array([52, 53, 54, 55]), array([52, 53, 54, 55]),\n",
       "       array([52, 53, 54, 55]), array([52, 53, 54, 55]),\n",
       "       array([56, 57, 58, 59, 60, 61, 62]),\n",
       "       array([56, 57, 58, 59, 60, 61, 62]),\n",
       "       array([56, 57, 58, 59, 60, 61, 62]),\n",
       "       array([56, 57, 58, 59, 60, 61, 62]),\n",
       "       array([56, 57, 58, 59, 60, 61, 62]),\n",
       "       array([56, 57, 58, 59, 60, 61, 62]),\n",
       "       array([56, 57, 58, 59, 60, 61, 62]),\n",
       "       array([63, 64, 65, 66, 67, 68, 69, 70, 71]),\n",
       "       array([63, 64, 65, 66, 67, 68, 69, 70, 71]),\n",
       "       array([63, 64, 65, 66, 67, 68, 69, 70, 71]),\n",
       "       array([63, 64, 65, 66, 67, 68, 69, 70, 71]),\n",
       "       array([63, 64, 65, 66, 67, 68, 69, 70, 71]),\n",
       "       array([63, 64, 65, 66, 67, 68, 69, 70, 71]),\n",
       "       array([63, 64, 65, 66, 67, 68, 69, 70, 71]),\n",
       "       array([63, 64, 65, 66, 67, 68, 69, 70, 71]),\n",
       "       array([63, 64, 65, 66, 67, 68, 69, 70, 71]),\n",
       "       array([72, 73, 74, 75, 76, 77]), array([72, 73, 74, 75, 76, 77]),\n",
       "       array([72, 73, 74, 75, 76, 77]), array([72, 73, 74, 75, 76, 77]),\n",
       "       array([72, 73, 74, 75, 76, 77]), array([72, 73, 74, 75, 76, 77]),\n",
       "       array([78, 79, 80, 81, 82, 83]), array([78, 79, 80, 81, 82, 83]),\n",
       "       array([78, 79, 80, 81, 82, 83]), array([78, 79, 80, 81, 82, 83]),\n",
       "       array([78, 79, 80, 81, 82, 83]), array([78, 79, 80, 81, 82, 83]),\n",
       "       array([84, 85, 86, 87, 88, 89, 90, 91, 92, 93]),\n",
       "       array([84, 85, 86, 87, 88, 89, 90, 91, 92, 93]),\n",
       "       array([84, 85, 86, 87, 88, 89, 90, 91, 92, 93]),\n",
       "       array([84, 85, 86, 87, 88, 89, 90, 91, 92, 93]),\n",
       "       array([84, 85, 86, 87, 88, 89, 90, 91, 92, 93]),\n",
       "       array([84, 85, 86, 87, 88, 89, 90, 91, 92, 93]),\n",
       "       array([84, 85, 86, 87, 88, 89, 90, 91, 92, 93]),\n",
       "       array([84, 85, 86, 87, 88, 89, 90, 91, 92, 93]),\n",
       "       array([84, 85, 86, 87, 88, 89, 90, 91, 92, 93]),\n",
       "       array([84, 85, 86, 87, 88, 89, 90, 91, 92, 93]),\n",
       "       array([94, 95, 96, 97, 98, 99]), array([94, 95, 96, 97, 98, 99]),\n",
       "       array([94, 95, 96, 97, 98, 99]), array([94, 95, 96, 97, 98, 99]),\n",
       "       array([94, 95, 96, 97, 98, 99]), array([94, 95, 96, 97, 98, 99]),\n",
       "       array([100, 101, 102, 103]), array([100, 101, 102, 103]),\n",
       "       array([100, 101, 102, 103]), array([100, 101, 102, 103]),\n",
       "       array([104, 105, 106, 107, 108, 109, 110, 111]),\n",
       "       array([104, 105, 106, 107, 108, 109, 110, 111]),\n",
       "       array([104, 105, 106, 107, 108, 109, 110, 111]),\n",
       "       array([104, 105, 106, 107, 108, 109, 110, 111]),\n",
       "       array([104, 105, 106, 107, 108, 109, 110, 111]),\n",
       "       array([104, 105, 106, 107, 108, 109, 110, 111]),\n",
       "       array([104, 105, 106, 107, 108, 109, 110, 111]),\n",
       "       array([104, 105, 106, 107, 108, 109, 110, 111]),\n",
       "       array([112, 113, 114, 115, 116, 117, 118]),\n",
       "       array([112, 113, 114, 115, 116, 117, 118]),\n",
       "       array([112, 113, 114, 115, 116, 117, 118]),\n",
       "       array([112, 113, 114, 115, 116, 117, 118]),\n",
       "       array([112, 113, 114, 115, 116, 117, 118]),\n",
       "       array([112, 113, 114, 115, 116, 117, 118]),\n",
       "       array([112, 113, 114, 115, 116, 117, 118]),\n",
       "       array([119, 120, 121, 122, 123, 124, 125, 126, 127, 128]),\n",
       "       array([119, 120, 121, 122, 123, 124, 125, 126, 127, 128]),\n",
       "       array([119, 120, 121, 122, 123, 124, 125, 126, 127, 128]),\n",
       "       array([119, 120, 121, 122, 123, 124, 125, 126, 127, 128]),\n",
       "       array([119, 120, 121, 122, 123, 124, 125, 126, 127, 128]),\n",
       "       array([119, 120, 121, 122, 123, 124, 125, 126, 127, 128]),\n",
       "       array([119, 120, 121, 122, 123, 124, 125, 126, 127, 128]),\n",
       "       array([119, 120, 121, 122, 123, 124, 125, 126, 127, 128]),\n",
       "       array([119, 120, 121, 122, 123, 124, 125, 126, 127, 128]),\n",
       "       array([119, 120, 121, 122, 123, 124, 125, 126, 127, 128]),\n",
       "       array([129, 130, 131, 132, 133, 134, 135, 136, 137]),\n",
       "       array([129, 130, 131, 132, 133, 134, 135, 136, 137]),\n",
       "       array([129, 130, 131, 132, 133, 134, 135, 136, 137]),\n",
       "       array([129, 130, 131, 132, 133, 134, 135, 136, 137]),\n",
       "       array([129, 130, 131, 132, 133, 134, 135, 136, 137]),\n",
       "       array([129, 130, 131, 132, 133, 134, 135, 136, 137]),\n",
       "       array([129, 130, 131, 132, 133, 134, 135, 136, 137]),\n",
       "       array([129, 130, 131, 132, 133, 134, 135, 136, 137]),\n",
       "       array([129, 130, 131, 132, 133, 134, 135, 136, 137]),\n",
       "       array([138, 139, 140, 141, 142, 143, 144, 145]),\n",
       "       array([138, 139, 140, 141, 142, 143, 144, 145]),\n",
       "       array([138, 139, 140, 141, 142, 143, 144, 145]),\n",
       "       array([138, 139, 140, 141, 142, 143, 144, 145]),\n",
       "       array([138, 139, 140, 141, 142, 143, 144, 145]),\n",
       "       array([138, 139, 140, 141, 142, 143, 144, 145]),\n",
       "       array([138, 139, 140, 141, 142, 143, 144, 145]),\n",
       "       array([138, 139, 140, 141, 142, 143, 144, 145]),\n",
       "       array([146, 147, 148, 149, 150, 151, 152, 153]),\n",
       "       array([146, 147, 148, 149, 150, 151, 152, 153]),\n",
       "       array([146, 147, 148, 149, 150, 151, 152, 153]),\n",
       "       array([146, 147, 148, 149, 150, 151, 152, 153]),\n",
       "       array([146, 147, 148, 149, 150, 151, 152, 153]),\n",
       "       array([146, 147, 148, 149, 150, 151, 152, 153]),\n",
       "       array([146, 147, 148, 149, 150, 151, 152, 153]),\n",
       "       array([146, 147, 148, 149, 150, 151, 152, 153]),\n",
       "       array([154, 155, 156, 157, 158, 159, 160, 161]),\n",
       "       array([154, 155, 156, 157, 158, 159, 160, 161]),\n",
       "       array([154, 155, 156, 157, 158, 159, 160, 161]),\n",
       "       array([154, 155, 156, 157, 158, 159, 160, 161]),\n",
       "       array([154, 155, 156, 157, 158, 159, 160, 161]),\n",
       "       array([154, 155, 156, 157, 158, 159, 160, 161]),\n",
       "       array([154, 155, 156, 157, 158, 159, 160, 161]),\n",
       "       array([154, 155, 156, 157, 158, 159, 160, 161]),\n",
       "       array([162, 163, 164, 165, 166, 167]),\n",
       "       array([162, 163, 164, 165, 166, 167]),\n",
       "       array([162, 163, 164, 165, 166, 167]),\n",
       "       array([162, 163, 164, 165, 166, 167]),\n",
       "       array([162, 163, 164, 165, 166, 167]),\n",
       "       array([162, 163, 164, 165, 166, 167]), array([168, 169, 170, 171]),\n",
       "       array([168, 169, 170, 171]), array([168, 169, 170, 171]),\n",
       "       array([168, 169, 170, 171]),\n",
       "       array([172, 173, 174, 175, 176, 177, 178, 179, 180]),\n",
       "       array([172, 173, 174, 175, 176, 177, 178, 179, 180]),\n",
       "       array([172, 173, 174, 175, 176, 177, 178, 179, 180]),\n",
       "       array([172, 173, 174, 175, 176, 177, 178, 179, 180]),\n",
       "       array([172, 173, 174, 175, 176, 177, 178, 179, 180]),\n",
       "       array([172, 173, 174, 175, 176, 177, 178, 179, 180]),\n",
       "       array([172, 173, 174, 175, 176, 177, 178, 179, 180]),\n",
       "       array([172, 173, 174, 175, 176, 177, 178, 179, 180]),\n",
       "       array([172, 173, 174, 175, 176, 177, 178, 179, 180]),\n",
       "       array([181, 182, 183, 184, 185]), array([181, 182, 183, 184, 185]),\n",
       "       array([181, 182, 183, 184, 185]), array([181, 182, 183, 184, 185]),\n",
       "       array([181, 182, 183, 184, 185]), array([186, 187, 188, 189]),\n",
       "       array([186, 187, 188, 189]), array([186, 187, 188, 189]),\n",
       "       array([186, 187, 188, 189]), array([190])], dtype=object)"
      ]
     },
     "execution_count": 15,
     "metadata": {},
     "output_type": "execute_result"
    }
   ],
   "source": [
    "gt_images"
   ]
  },
  {
   "cell_type": "code",
   "execution_count": 60,
   "metadata": {},
   "outputs": [
    {
     "name": "stdout",
     "output_type": "stream",
     "text": [
      "/Users/hadiibrahim/Dev/POLITO/gsv-cities/datasets/robotcar_dataset/test/database/sequence\n",
      "Saved 3632 database image names to robotcar_test_dbImages.npy\n",
      "Saved 3921 query image names to robotcar_test_qImages.npy\n"
     ]
    }
   ],
   "source": [
    "import os\n",
    "import numpy as np\n",
    "\n",
    "# Define the paths\n",
    "base_dir = '/Users/hadiibrahim/Dev/POLITO/gsv-cities/datasets/robotcar_dataset/'\n",
    "database_dir = os.path.join(base_dir, 'test/database/sequence')\n",
    "queries_dir = os.path.join(base_dir, 'test/queries/sequence')\n",
    "db_images_file = 'robotcar_test_dbImages.npy'\n",
    "q_images_file = 'robotcar_test_qImages.npy'\n",
    "\n",
    "print(database_dir)\n",
    "\n",
    "# Function to get relative image paths\n",
    "def get_image_paths(dir_path, base_dir):\n",
    "    image_paths = []\n",
    "    for root, dirs, files in os.walk(dir_path):\n",
    "        for file in files:\n",
    "            if file.endswith(('.png', '.jpg', '.jpeg')):\n",
    "                full_path = os.path.join(root, file)\n",
    "                relative_path = os.path.relpath(full_path, base_dir)\n",
    "                image_paths.append(relative_path)\n",
    "    return image_paths\n",
    "\n",
    "# Get all image file names in the database and queries folders\n",
    "db_images = get_image_paths(database_dir, base_dir)\n",
    "q_images = get_image_paths(queries_dir, base_dir)\n",
    "\n",
    "# Save the image file names to numpy arrays\n",
    "np.save(db_images_file, np.array(db_images))\n",
    "np.save(q_images_file, np.array(q_images))\n",
    "\n",
    "# Print confirmation\n",
    "print(f'Saved {len(db_images)} database image names to {db_images_file}')\n",
    "print(f'Saved {len(q_images)} query image names to {q_images_file}')\n"
   ]
  },
  {
   "cell_type": "code",
   "execution_count": null,
   "metadata": {},
   "outputs": [],
   "source": []
  }
 ],
 "metadata": {
  "kernelspec": {
   "display_name": "gsvcities-env",
   "language": "python",
   "name": "python3"
  },
  "language_info": {
   "codemirror_mode": {
    "name": "ipython",
    "version": 3
   },
   "file_extension": ".py",
   "mimetype": "text/x-python",
   "name": "python",
   "nbconvert_exporter": "python",
   "pygments_lexer": "ipython3",
   "version": "3.10.12"
  }
 },
 "nbformat": 4,
 "nbformat_minor": 2
}
